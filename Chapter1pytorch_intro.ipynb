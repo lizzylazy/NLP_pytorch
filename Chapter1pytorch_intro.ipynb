{
  "nbformat": 4,
  "nbformat_minor": 0,
  "metadata": {
    "colab": {
      "name": "Chapter1pytorch_intro.ipynb",
      "provenance": [],
      "collapsed_sections": [],
      "authorship_tag": "ABX9TyOztsn84cyXzdV2MH/v2WNX",
      "include_colab_link": true
    },
    "kernelspec": {
      "name": "python3",
      "display_name": "Python 3"
    },
    "language_info": {
      "name": "python"
    }
  },
  "cells": [
    {
      "cell_type": "markdown",
      "metadata": {
        "id": "view-in-github",
        "colab_type": "text"
      },
      "source": [
        "<a href=\"https://colab.research.google.com/github/lizzylazy/NLP_pytorch/blob/main/Chapter1pytorch_intro.ipynb\" target=\"_parent\"><img src=\"https://colab.research.google.com/assets/colab-badge.svg\" alt=\"Open In Colab\"/></a>"
      ]
    },
    {
      "cell_type": "markdown",
      "source": [
        "# Connecting google drive"
      ],
      "metadata": {
        "id": "AcwIB-xxmaaA"
      }
    },
    {
      "cell_type": "code",
      "execution_count": 2,
      "metadata": {
        "colab": {
          "base_uri": "https://localhost:8080/"
        },
        "id": "e3Sr5Qg-k89p",
        "outputId": "9323d8e5-b14a-4746-c79a-302169fd80af"
      },
      "outputs": [
        {
          "output_type": "stream",
          "name": "stdout",
          "text": [
            "Mounted at /content/gdrive\n"
          ]
        }
      ],
      "source": [
        "from google.colab import drive\n",
        "drive.mount('/content/gdrive')\n"
      ]
    },
    {
      "cell_type": "code",
      "source": [
        "% cd /content/gdrive/MyDrive/pytorch_NLP/"
      ],
      "metadata": {
        "colab": {
          "base_uri": "https://localhost:8080/"
        },
        "id": "hJC-h3p2lbIK",
        "outputId": "3a3ce1a8-4d83-4d5e-cef8-b0d60b16ca6c"
      },
      "execution_count": 3,
      "outputs": [
        {
          "output_type": "stream",
          "name": "stdout",
          "text": [
            "/content/gdrive/MyDrive/pytorch_NLP\n"
          ]
        }
      ]
    },
    {
      "cell_type": "code",
      "source": [
        "%ls "
      ],
      "metadata": {
        "colab": {
          "base_uri": "https://localhost:8080/"
        },
        "id": "_MP_bEB_lWHq",
        "outputId": "c38e19d7-7eb6-4c26-c7ec-ff8dbceba92c"
      },
      "execution_count": 4,
      "outputs": [
        {
          "output_type": "stream",
          "name": "stdout",
          "text": [
            "Chapter1pytorch_intro.ipynb\n"
          ]
        }
      ]
    },
    {
      "cell_type": "code",
      "source": [
        "pwd"
      ],
      "metadata": {
        "colab": {
          "base_uri": "https://localhost:8080/",
          "height": 35
        },
        "id": "MjOAd2b5lhcK",
        "outputId": "f20d4148-001a-47f4-f821-720c93657024"
      },
      "execution_count": 5,
      "outputs": [
        {
          "output_type": "execute_result",
          "data": {
            "application/vnd.google.colaboratory.intrinsic+json": {
              "type": "string"
            },
            "text/plain": [
              "'/content/gdrive/MyDrive/pytorch_NLP'"
            ]
          },
          "metadata": {},
          "execution_count": 5
        }
      ]
    },
    {
      "cell_type": "code",
      "source": [
        ""
      ],
      "metadata": {
        "id": "qXG_DN1nmCuN"
      },
      "execution_count": 5,
      "outputs": []
    },
    {
      "cell_type": "markdown",
      "source": [
        "# Create a tensor"
      ],
      "metadata": {
        "id": "xhlu8jDomZEU"
      }
    },
    {
      "cell_type": "code",
      "source": [
        "import torch"
      ],
      "metadata": {
        "id": "tQp_cm0Qmr0M"
      },
      "execution_count": 6,
      "outputs": []
    },
    {
      "cell_type": "code",
      "source": [
        "# help function \n",
        "def describe(x):\n",
        "  print('Type:{}'.format(x.type()))\n",
        "  print('Shape/Size: {}'.format(x.shape))\n",
        "  print('Value: \\n{}'.format(x))"
      ],
      "metadata": {
        "id": "dbwP83TYmu7W"
      },
      "execution_count": 7,
      "outputs": []
    },
    {
      "cell_type": "code",
      "source": [
        "describe(torch.Tensor(2,3))"
      ],
      "metadata": {
        "colab": {
          "base_uri": "https://localhost:8080/"
        },
        "id": "W23dk9T1nRiu",
        "outputId": "ac7b848a-5f9b-430b-cacf-8c40cebd9f75"
      },
      "execution_count": 8,
      "outputs": [
        {
          "output_type": "stream",
          "name": "stdout",
          "text": [
            "Type:torch.FloatTensor\n",
            "Shape/Size: torch.Size([2, 3])\n",
            "Value: \n",
            "tensor([[-2.2189e+20,  3.0792e-41,  3.7835e-44],\n",
            "        [ 0.0000e+00,         nan,  3.0792e-41]])\n"
          ]
        }
      ]
    },
    {
      "cell_type": "code",
      "source": [
        "describe(torch.rand(2,3))\n",
        "describe(torch.randn(2,3))"
      ],
      "metadata": {
        "colab": {
          "base_uri": "https://localhost:8080/"
        },
        "id": "ozA1FmNAnWx0",
        "outputId": "a835c227-40ec-4d22-9dc6-ae93cfc72d66"
      },
      "execution_count": 9,
      "outputs": [
        {
          "output_type": "stream",
          "name": "stdout",
          "text": [
            "Type:torch.FloatTensor\n",
            "Shape/Size: torch.Size([2, 3])\n",
            "Value: \n",
            "tensor([[0.4533, 0.9392, 0.3330],\n",
            "        [0.9863, 0.0221, 0.5340]])\n",
            "Type:torch.FloatTensor\n",
            "Shape/Size: torch.Size([2, 3])\n",
            "Value: \n",
            "tensor([[-0.6916, -0.2157, -0.4908],\n",
            "        [ 3.0094,  1.3148,  0.7771]])\n"
          ]
        }
      ]
    },
    {
      "cell_type": "code",
      "source": [
        "describe(torch.zeros(2,3))\n",
        "describe(torch.ones(2,3))"
      ],
      "metadata": {
        "colab": {
          "base_uri": "https://localhost:8080/"
        },
        "id": "XZiJNrU_oI4x",
        "outputId": "fa6cea99-9517-4ae5-c2bf-f2bdfe906f0f"
      },
      "execution_count": 10,
      "outputs": [
        {
          "output_type": "stream",
          "name": "stdout",
          "text": [
            "Type:torch.FloatTensor\n",
            "Shape/Size: torch.Size([2, 3])\n",
            "Value: \n",
            "tensor([[0., 0., 0.],\n",
            "        [0., 0., 0.]])\n",
            "Type:torch.FloatTensor\n",
            "Shape/Size: torch.Size([2, 3])\n",
            "Value: \n",
            "tensor([[1., 1., 1.],\n",
            "        [1., 1., 1.]])\n"
          ]
        }
      ]
    },
    {
      "cell_type": "code",
      "source": [
        "x = torch.arange(6, dtype=float)"
      ],
      "metadata": {
        "id": "hzCU5vIfpZHV"
      },
      "execution_count": 11,
      "outputs": []
    },
    {
      "cell_type": "code",
      "source": [
        "describe(x)"
      ],
      "metadata": {
        "colab": {
          "base_uri": "https://localhost:8080/"
        },
        "id": "0JTZcuKQpdQ8",
        "outputId": "5c186155-7f36-4125-dcfa-497e33f90bda"
      },
      "execution_count": 12,
      "outputs": [
        {
          "output_type": "stream",
          "name": "stdout",
          "text": [
            "Type:torch.DoubleTensor\n",
            "Shape/Size: torch.Size([6])\n",
            "Value: \n",
            "tensor([0., 1., 2., 3., 4., 5.], dtype=torch.float64)\n"
          ]
        }
      ]
    },
    {
      "cell_type": "code",
      "source": [
        "x = x.reshape(2,3) # reshape and view have the same results\n",
        "describe(x)"
      ],
      "metadata": {
        "colab": {
          "base_uri": "https://localhost:8080/"
        },
        "id": "ZNZ_Js16p2uT",
        "outputId": "047183d0-ae14-4f4d-a0a8-0badf71abdda"
      },
      "execution_count": 17,
      "outputs": [
        {
          "output_type": "stream",
          "name": "stdout",
          "text": [
            "Type:torch.DoubleTensor\n",
            "Shape/Size: torch.Size([2, 3])\n",
            "Value: \n",
            "tensor([[0., 1., 2.],\n",
            "        [3., 4., 5.]], dtype=torch.float64)\n"
          ]
        }
      ]
    },
    {
      "cell_type": "code",
      "source": [
        "describe(x.sum())\n",
        "describe(x.sum(dim=0)) # sum along row\n",
        "describe(x.sum(dim=1)) # sum along column"
      ],
      "metadata": {
        "colab": {
          "base_uri": "https://localhost:8080/"
        },
        "id": "N2_zZ0rTqqBp",
        "outputId": "fc4b3a40-ee63-4ba5-c413-6ac8c8b1da9e"
      },
      "execution_count": 18,
      "outputs": [
        {
          "output_type": "stream",
          "name": "stdout",
          "text": [
            "Type:torch.DoubleTensor\n",
            "Shape/Size: torch.Size([])\n",
            "Value: \n",
            "15.0\n",
            "Type:torch.DoubleTensor\n",
            "Shape/Size: torch.Size([3])\n",
            "Value: \n",
            "tensor([3., 5., 7.], dtype=torch.float64)\n",
            "Type:torch.DoubleTensor\n",
            "Shape/Size: torch.Size([2])\n",
            "Value: \n",
            "tensor([ 3., 12.], dtype=torch.float64)\n"
          ]
        }
      ]
    },
    {
      "cell_type": "code",
      "source": [
        "describe(x.transpose(1,0))\n",
        "describe(x.transpose(0,1))"
      ],
      "metadata": {
        "colab": {
          "base_uri": "https://localhost:8080/"
        },
        "id": "btadwUxfq27k",
        "outputId": "07a2e13c-87fc-496f-c8e4-0fe71f1544f8"
      },
      "execution_count": 19,
      "outputs": [
        {
          "output_type": "stream",
          "name": "stdout",
          "text": [
            "Type:torch.DoubleTensor\n",
            "Shape/Size: torch.Size([3, 2])\n",
            "Value: \n",
            "tensor([[0., 3.],\n",
            "        [1., 4.],\n",
            "        [2., 5.]], dtype=torch.float64)\n",
            "Type:torch.DoubleTensor\n",
            "Shape/Size: torch.Size([3, 2])\n",
            "Value: \n",
            "tensor([[0., 3.],\n",
            "        [1., 4.],\n",
            "        [2., 5.]], dtype=torch.float64)\n"
          ]
        }
      ]
    },
    {
      "cell_type": "code",
      "source": [
        "row_indices = torch.arange(2).long()\n",
        "col_indices = torch.LongTensor([0, 1])\n",
        "# describe(x[row_indices, col_indices])"
      ],
      "metadata": {
        "id": "qx_g1YphrLvs"
      },
      "execution_count": 20,
      "outputs": []
    },
    {
      "cell_type": "code",
      "source": [
        "row_indices"
      ],
      "metadata": {
        "colab": {
          "base_uri": "https://localhost:8080/"
        },
        "id": "sT55czTpsV0a",
        "outputId": "1faaa2c4-3cf7-40b9-e9e7-13f61339b7f5"
      },
      "execution_count": 21,
      "outputs": [
        {
          "output_type": "execute_result",
          "data": {
            "text/plain": [
              "tensor([0, 1])"
            ]
          },
          "metadata": {},
          "execution_count": 21
        }
      ]
    },
    {
      "cell_type": "code",
      "source": [
        "col_indices"
      ],
      "metadata": {
        "colab": {
          "base_uri": "https://localhost:8080/"
        },
        "id": "vFvLtZGYsaLx",
        "outputId": "3cbe8b44-21c1-4a00-d3d8-33fe6e581f93"
      },
      "execution_count": 22,
      "outputs": [
        {
          "output_type": "execute_result",
          "data": {
            "text/plain": [
              "tensor([0, 1])"
            ]
          },
          "metadata": {},
          "execution_count": 22
        }
      ]
    },
    {
      "cell_type": "code",
      "source": [
        "x[row_indices, col_indices]"
      ],
      "metadata": {
        "colab": {
          "base_uri": "https://localhost:8080/"
        },
        "id": "2QrY3EizsfBS",
        "outputId": "91acb3d8-7faf-4aee-a242-e3d38d4b97a9"
      },
      "execution_count": 23,
      "outputs": [
        {
          "output_type": "execute_result",
          "data": {
            "text/plain": [
              "tensor([0., 4.], dtype=torch.float64)"
            ]
          },
          "metadata": {},
          "execution_count": 23
        }
      ]
    },
    {
      "cell_type": "markdown",
      "source": [
        "# Tensors and Computational Graphs\n"
      ],
      "metadata": {
        "id": "yjjWAxrcuS7f"
      }
    },
    {
      "cell_type": "code",
      "source": [
        "import torch\n",
        "x = torch.ones(2, 2, requires_grad=True)\n",
        "describe(x)\n",
        "print(x.grad is None)"
      ],
      "metadata": {
        "colab": {
          "base_uri": "https://localhost:8080/"
        },
        "id": "snVcaOawsi9S",
        "outputId": "2b2f755e-4626-459c-d6d8-0887576ee1b6"
      },
      "execution_count": 24,
      "outputs": [
        {
          "output_type": "stream",
          "name": "stdout",
          "text": [
            "Type:torch.FloatTensor\n",
            "Shape/Size: torch.Size([2, 2])\n",
            "Value: \n",
            "tensor([[1., 1.],\n",
            "        [1., 1.]], requires_grad=True)\n",
            "True\n"
          ]
        }
      ]
    },
    {
      "cell_type": "code",
      "source": [
        "y = (x + 2) * (x + 5) + 3\n",
        "describe(y)\n",
        "print(x.grad is None)"
      ],
      "metadata": {
        "colab": {
          "base_uri": "https://localhost:8080/"
        },
        "id": "iMlaWt6oudAb",
        "outputId": "020855bb-8f12-4377-b09b-cdf8c5834c8b"
      },
      "execution_count": 25,
      "outputs": [
        {
          "output_type": "stream",
          "name": "stdout",
          "text": [
            "Type:torch.FloatTensor\n",
            "Shape/Size: torch.Size([2, 2])\n",
            "Value: \n",
            "tensor([[21., 21.],\n",
            "        [21., 21.]], grad_fn=<AddBackward0>)\n",
            "True\n"
          ]
        }
      ]
    },
    {
      "cell_type": "code",
      "source": [
        "z = y.mean()\n",
        "describe(z)\n",
        "z.backward()\n",
        "print(x.grad is None)"
      ],
      "metadata": {
        "colab": {
          "base_uri": "https://localhost:8080/"
        },
        "id": "CLY7VcErudxy",
        "outputId": "487dc5ed-f323-46b2-daf6-6de3bb3ad36d"
      },
      "execution_count": 26,
      "outputs": [
        {
          "output_type": "stream",
          "name": "stdout",
          "text": [
            "Type:torch.FloatTensor\n",
            "Shape/Size: torch.Size([])\n",
            "Value: \n",
            "21.0\n",
            "False\n"
          ]
        }
      ]
    },
    {
      "cell_type": "markdown",
      "source": [
        "# Exercises"
      ],
      "metadata": {
        "id": "7bkr_TzMxSSw"
      }
    },
    {
      "cell_type": "markdown",
      "source": [
        "1. Create a 2D tensor and then add a dimension of size 1 inserted at dimension 0"
      ],
      "metadata": {
        "id": "89MpCxPDzC5d"
      }
    },
    {
      "cell_type": "code",
      "source": [
        "x = torch.arange(6).view(2,3)\n",
        "describe(x)"
      ],
      "metadata": {
        "colab": {
          "base_uri": "https://localhost:8080/"
        },
        "id": "aTYU2CjmunSm",
        "outputId": "4a013020-af37-48ce-e764-5d131b998f9b"
      },
      "execution_count": 27,
      "outputs": [
        {
          "output_type": "stream",
          "name": "stdout",
          "text": [
            "Type:torch.LongTensor\n",
            "Shape/Size: torch.Size([2, 3])\n",
            "Value: \n",
            "tensor([[0, 1, 2],\n",
            "        [3, 4, 5]])\n"
          ]
        }
      ]
    },
    {
      "cell_type": "code",
      "source": [
        "y = x.unsqueeze(0) # add a dimension at dimendion 0"
      ],
      "metadata": {
        "colab": {
          "base_uri": "https://localhost:8080/"
        },
        "id": "8e9M8tAvye-O",
        "outputId": "17a4edc8-dee6-4948-87d9-28021063068a"
      },
      "execution_count": 28,
      "outputs": [
        {
          "output_type": "stream",
          "name": "stdout",
          "text": [
            "Type:torch.LongTensor\n",
            "Shape/Size: torch.Size([1, 2, 3])\n",
            "Value: \n",
            "tensor([[[0, 1, 2],\n",
            "         [3, 4, 5]]])\n"
          ]
        }
      ]
    },
    {
      "cell_type": "code",
      "source": [
        "y = x.unsqueeze(2) # add a dimension at dimendion 2\n",
        "describe(y)"
      ],
      "metadata": {
        "colab": {
          "base_uri": "https://localhost:8080/"
        },
        "outputId": "c5062cd0-5ae0-4f85-cc0f-2a19d3087d50",
        "id": "e1KOOJmZEXZ6"
      },
      "execution_count": 29,
      "outputs": [
        {
          "output_type": "stream",
          "name": "stdout",
          "text": [
            "Type:torch.LongTensor\n",
            "Shape/Size: torch.Size([2, 3, 1])\n",
            "Value: \n",
            "tensor([[[0],\n",
            "         [1],\n",
            "         [2]],\n",
            "\n",
            "        [[3],\n",
            "         [4],\n",
            "         [5]]])\n"
          ]
        }
      ]
    },
    {
      "cell_type": "markdown",
      "source": [
        "2. Remove the extra dimension you just added to the previous tensor.\n"
      ],
      "metadata": {
        "id": "o6osWnXLzFvR"
      }
    },
    {
      "cell_type": "code",
      "source": [
        "b = y.squeeze(2) # delete the added the dimension at dimendion 2\n",
        "describe(b)"
      ],
      "metadata": {
        "colab": {
          "base_uri": "https://localhost:8080/"
        },
        "id": "CRAw0fetxkmJ",
        "outputId": "cc0949c2-ccab-47a3-9f9b-de8b39d5fd2a"
      },
      "execution_count": 32,
      "outputs": [
        {
          "output_type": "stream",
          "name": "stdout",
          "text": [
            "Type:torch.LongTensor\n",
            "Shape/Size: torch.Size([2, 3])\n",
            "Value: \n",
            "tensor([[0, 1, 2],\n",
            "        [3, 4, 5]])\n"
          ]
        }
      ]
    },
    {
      "cell_type": "markdown",
      "source": [
        "3. Create a random tensor of shape 5x3 in the interval [3, 7)"
      ],
      "metadata": {
        "id": "sfp88u3tzJaw"
      }
    },
    {
      "cell_type": "code",
      "source": [
        "a = torch.rand(5,3)\n",
        "z= 3+a * 4"
      ],
      "metadata": {
        "id": "8_fJeReDyYs_"
      },
      "execution_count": 33,
      "outputs": []
    },
    {
      "cell_type": "code",
      "source": [
        "describe(z)"
      ],
      "metadata": {
        "colab": {
          "base_uri": "https://localhost:8080/"
        },
        "id": "6opyAwyDzXuU",
        "outputId": "41590f44-847d-4551-e4bf-81c012d803de"
      },
      "execution_count": 34,
      "outputs": [
        {
          "output_type": "stream",
          "name": "stdout",
          "text": [
            "Type:torch.FloatTensor\n",
            "Shape/Size: torch.Size([5, 3])\n",
            "Value: \n",
            "tensor([[6.9314, 4.2247, 4.9379],\n",
            "        [4.4607, 6.0720, 5.2231],\n",
            "        [6.5747, 3.5883, 3.8294],\n",
            "        [4.4579, 3.0266, 4.7698],\n",
            "        [5.4972, 4.3908, 6.0613]])\n"
          ]
        }
      ]
    },
    {
      "cell_type": "markdown",
      "source": [
        "4. Create a tensor with values from a normal distribution (mean=0, std=1).\n"
      ],
      "metadata": {
        "id": "W9MOmaa70U5B"
      }
    },
    {
      "cell_type": "code",
      "source": [
        "torch.randn(2,3) # random normal distribution tensor with size (2,3)\n"
      ],
      "metadata": {
        "colab": {
          "base_uri": "https://localhost:8080/"
        },
        "id": "kfaOwnx_0RRz",
        "outputId": "a1e55181-0aed-48b4-f8ff-9264eb7d2cf7"
      },
      "execution_count": 37,
      "outputs": [
        {
          "output_type": "execute_result",
          "data": {
            "text/plain": [
              "tensor([[-0.4168, -2.7415,  1.3455],\n",
              "        [ 0.3175, -0.0065, -0.4627]])"
            ]
          },
          "metadata": {},
          "execution_count": 37
        }
      ]
    },
    {
      "cell_type": "markdown",
      "source": [
        "5. Retrieve the indexes of all the nonzero elements in the tensor torch.Tensor([1, 1, 1,\n",
        "0, 1])"
      ],
      "metadata": {
        "id": "d6WFToJmGvlY"
      }
    },
    {
      "cell_type": "code",
      "source": [
        "x = torch.tensor([1,1,1,0,1])"
      ],
      "metadata": {
        "id": "yjlt4NvGGydL"
      },
      "execution_count": 46,
      "outputs": []
    },
    {
      "cell_type": "code",
      "source": [
        "idx = torch.nonzero(x)\n",
        "idx"
      ],
      "metadata": {
        "colab": {
          "base_uri": "https://localhost:8080/"
        },
        "id": "Q8Rdj71-G8PZ",
        "outputId": "4fab6a5b-497f-4853-d6a4-4e38737431f9"
      },
      "execution_count": 47,
      "outputs": [
        {
          "output_type": "execute_result",
          "data": {
            "text/plain": [
              "tensor([[0],\n",
              "        [1],\n",
              "        [2],\n",
              "        [4]])"
            ]
          },
          "metadata": {},
          "execution_count": 47
        }
      ]
    },
    {
      "cell_type": "markdown",
      "source": [
        "6. Create a random tensor of size (3,1) and then horizontally stack four copies together"
      ],
      "metadata": {
        "id": "zNmWaQHgHQLT"
      }
    },
    {
      "cell_type": "code",
      "source": [
        "x = torch.rand(3,1)\n",
        "y = torch.stack((x, x,x,x), dim=1).squeeze(2)\n",
        "describe(x)\n",
        "describe(y)"
      ],
      "metadata": {
        "colab": {
          "base_uri": "https://localhost:8080/"
        },
        "id": "psuJjaU9HMef",
        "outputId": "3125dc14-cfd5-4703-8073-25fbbe876271"
      },
      "execution_count": 55,
      "outputs": [
        {
          "output_type": "stream",
          "name": "stdout",
          "text": [
            "Type:torch.FloatTensor\n",
            "Shape/Size: torch.Size([3, 1])\n",
            "Value: \n",
            "tensor([[0.6377],\n",
            "        [0.7674],\n",
            "        [0.7647]])\n",
            "Type:torch.FloatTensor\n",
            "Shape/Size: torch.Size([3, 4])\n",
            "Value: \n",
            "tensor([[0.6377, 0.6377, 0.6377, 0.6377],\n",
            "        [0.7674, 0.7674, 0.7674, 0.7674],\n",
            "        [0.7647, 0.7647, 0.7647, 0.7647]])\n"
          ]
        }
      ]
    },
    {
      "cell_type": "code",
      "source": [
        "x = torch.rand(3,1)\n",
        "y = x.expand(3,4)\n",
        "describe(x)\n",
        "describe(y)"
      ],
      "metadata": {
        "colab": {
          "base_uri": "https://localhost:8080/"
        },
        "outputId": "dd27d1fa-16c1-4460-ecf6-bf66f585aa31",
        "id": "zsOwxYkOILQO"
      },
      "execution_count": 54,
      "outputs": [
        {
          "output_type": "stream",
          "name": "stdout",
          "text": [
            "Type:torch.FloatTensor\n",
            "Shape/Size: torch.Size([3, 1])\n",
            "Value: \n",
            "tensor([[0.6713],\n",
            "        [0.4560],\n",
            "        [0.9552]])\n",
            "Type:torch.FloatTensor\n",
            "Shape/Size: torch.Size([3, 4])\n",
            "Value: \n",
            "tensor([[0.6713, 0.6713, 0.6713, 0.6713],\n",
            "        [0.4560, 0.4560, 0.4560, 0.4560],\n",
            "        [0.9552, 0.9552, 0.9552, 0.9552]])\n"
          ]
        }
      ]
    },
    {
      "cell_type": "markdown",
      "source": [
        "7. Return the batch matrix­matrix product of two three­dimensional matrices\n",
        "(a=torch.rand(3,4,5), b=torch.rand(3,5,4))."
      ],
      "metadata": {
        "id": "IDkU8xd20sBe"
      }
    },
    {
      "cell_type": "code",
      "source": [
        "a=torch.rand(3,4,5)\n",
        "b=torch.rand(3,5,4)\n",
        "c = torch.bmm(a,b)\n",
        "describe(c)"
      ],
      "metadata": {
        "colab": {
          "base_uri": "https://localhost:8080/"
        },
        "id": "6y1FzpEG0tYa",
        "outputId": "cbf1cb04-c3f7-4f5e-fb5f-1fefe0f5e528"
      },
      "execution_count": 38,
      "outputs": [
        {
          "output_type": "stream",
          "name": "stdout",
          "text": [
            "Type:torch.FloatTensor\n",
            "Shape/Size: torch.Size([3, 4, 4])\n",
            "Value: \n",
            "tensor([[[1.0356, 1.3230, 1.4704, 2.3555],\n",
            "         [1.2645, 1.3723, 2.0659, 2.4643],\n",
            "         [0.6828, 1.0022, 1.3347, 1.5519],\n",
            "         [1.1898, 1.2609, 1.8548, 2.0926]],\n",
            "\n",
            "        [[1.0221, 1.0521, 0.8851, 0.8829],\n",
            "         [0.9126, 0.8000, 0.6823, 0.8128],\n",
            "         [0.8739, 1.1457, 0.8259, 0.7038],\n",
            "         [1.3348, 1.3943, 0.8922, 0.8217]],\n",
            "\n",
            "        [[1.2477, 0.9949, 0.6458, 1.8536],\n",
            "         [1.3285, 0.6793, 0.8304, 1.5074],\n",
            "         [0.9878, 0.9399, 0.6733, 1.6997],\n",
            "         [1.3922, 0.8752, 0.7922, 1.7901]]])\n"
          ]
        }
      ]
    },
    {
      "cell_type": "markdown",
      "source": [
        "8. Return the batch matrix­matrix product of a 3D matrix and a 2D matrix\n",
        "(a=torch.rand(3,4,5), b=torch.rand(5,4))"
      ],
      "metadata": {
        "id": "nkDdQM1o1CQV"
      }
    },
    {
      "cell_type": "code",
      "source": [
        "a=torch.rand(3,4,5)\n",
        "b=torch.rand(5,4)"
      ],
      "metadata": {
        "id": "62lDOr1V0zL-"
      },
      "execution_count": 39,
      "outputs": []
    },
    {
      "cell_type": "code",
      "source": [
        "c = b.unsqueeze(0).expand(a.size(0), *b.size())\n",
        "describe(c)"
      ],
      "metadata": {
        "colab": {
          "base_uri": "https://localhost:8080/"
        },
        "id": "DmnNCJQi27aH",
        "outputId": "599d32df-9aa3-4f51-e0ee-231b2994754b"
      },
      "execution_count": 41,
      "outputs": [
        {
          "output_type": "stream",
          "name": "stdout",
          "text": [
            "Type:torch.FloatTensor\n",
            "Shape/Size: torch.Size([3, 5, 4])\n",
            "Value: \n",
            "tensor([[[0.1463, 0.3807, 0.6052, 0.4311],\n",
            "         [0.4888, 0.7776, 0.6835, 0.5198],\n",
            "         [0.3531, 0.5815, 0.3338, 0.6531],\n",
            "         [0.1442, 0.9355, 0.8658, 0.2634],\n",
            "         [0.2609, 0.6348, 0.1194, 0.8101]],\n",
            "\n",
            "        [[0.1463, 0.3807, 0.6052, 0.4311],\n",
            "         [0.4888, 0.7776, 0.6835, 0.5198],\n",
            "         [0.3531, 0.5815, 0.3338, 0.6531],\n",
            "         [0.1442, 0.9355, 0.8658, 0.2634],\n",
            "         [0.2609, 0.6348, 0.1194, 0.8101]],\n",
            "\n",
            "        [[0.1463, 0.3807, 0.6052, 0.4311],\n",
            "         [0.4888, 0.7776, 0.6835, 0.5198],\n",
            "         [0.3531, 0.5815, 0.3338, 0.6531],\n",
            "         [0.1442, 0.9355, 0.8658, 0.2634],\n",
            "         [0.2609, 0.6348, 0.1194, 0.8101]]])\n"
          ]
        }
      ]
    },
    {
      "cell_type": "code",
      "source": [
        "d = torch.bmm(a,c)\n",
        "describe(d)"
      ],
      "metadata": {
        "colab": {
          "base_uri": "https://localhost:8080/"
        },
        "id": "nN3-1UgN5ML8",
        "outputId": "9e3f83ea-fed4-4b62-cc66-6e14d41f25fd"
      },
      "execution_count": 42,
      "outputs": [
        {
          "output_type": "stream",
          "name": "stdout",
          "text": [
            "Type:torch.FloatTensor\n",
            "Shape/Size: torch.Size([3, 4, 4])\n",
            "Value: \n",
            "tensor([[[0.6627, 1.7497, 1.1145, 1.4499],\n",
            "         [0.9190, 1.7675, 1.0309, 1.7196],\n",
            "         [0.6251, 1.1701, 0.7590, 1.1741],\n",
            "         [0.7554, 1.9156, 1.3836, 1.8741]],\n",
            "\n",
            "        [[0.7965, 1.5696, 1.1391, 1.4849],\n",
            "         [0.7219, 1.4980, 1.1355, 1.4250],\n",
            "         [0.6236, 1.8316, 1.3509, 1.2610],\n",
            "         [0.8582, 2.0494, 1.7203, 1.4904]],\n",
            "\n",
            "        [[0.5256, 1.3800, 1.2936, 1.1303],\n",
            "         [0.8945, 1.7693, 1.3953, 1.5025],\n",
            "         [0.6382, 1.7929, 1.6678, 1.1804],\n",
            "         [0.4338, 1.2747, 1.1233, 0.7264]]])\n"
          ]
        }
      ]
    },
    {
      "cell_type": "code",
      "source": [
        ""
      ],
      "metadata": {
        "id": "HP_P_ji-5Q9V"
      },
      "execution_count": null,
      "outputs": []
    }
  ]
}