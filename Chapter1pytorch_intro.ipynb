{
  "nbformat": 4,
  "nbformat_minor": 0,
  "metadata": {
    "colab": {
      "name": "Chapter1pytorch_intro.ipynb",
      "provenance": [],
      "collapsed_sections": [],
      "authorship_tag": "ABX9TyNgbpHPSFJiISksfwBLO2De",
      "include_colab_link": true
    },
    "kernelspec": {
      "name": "python3",
      "display_name": "Python 3"
    },
    "language_info": {
      "name": "python"
    }
  },
  "cells": [
    {
      "cell_type": "markdown",
      "metadata": {
        "id": "view-in-github",
        "colab_type": "text"
      },
      "source": [
        "<a href=\"https://colab.research.google.com/github/lizzylazy/NLP_pytorch/blob/main/Chapter1pytorch_intro.ipynb\" target=\"_parent\"><img src=\"https://colab.research.google.com/assets/colab-badge.svg\" alt=\"Open In Colab\"/></a>"
      ]
    },
    {
      "cell_type": "markdown",
      "source": [
        "# Connecting google drive"
      ],
      "metadata": {
        "id": "AcwIB-xxmaaA"
      }
    },
    {
      "cell_type": "code",
      "execution_count": null,
      "metadata": {
        "colab": {
          "base_uri": "https://localhost:8080/"
        },
        "id": "e3Sr5Qg-k89p",
        "outputId": "9901defa-77f5-4063-90fb-048bbf650f97"
      },
      "outputs": [
        {
          "output_type": "stream",
          "name": "stdout",
          "text": [
            "Mounted at /content/gdrive\n"
          ]
        }
      ],
      "source": [
        "from google.colab import drive\n",
        "drive.mount('/content/gdrive')\n"
      ]
    },
    {
      "cell_type": "code",
      "source": [
        "% cd /content/gdrive/MyDrive/pytorch_NLP/"
      ],
      "metadata": {
        "colab": {
          "base_uri": "https://localhost:8080/"
        },
        "id": "hJC-h3p2lbIK",
        "outputId": "1d761c41-b886-4001-a612-6344ea23bdb9"
      },
      "execution_count": null,
      "outputs": [
        {
          "output_type": "stream",
          "name": "stdout",
          "text": [
            "/content/gdrive/MyDrive/pytorch_NLP\n"
          ]
        }
      ]
    },
    {
      "cell_type": "code",
      "source": [
        "%ls "
      ],
      "metadata": {
        "colab": {
          "base_uri": "https://localhost:8080/"
        },
        "id": "_MP_bEB_lWHq",
        "outputId": "f70c7ba5-c1ba-4523-9fc7-7f992af88668"
      },
      "execution_count": null,
      "outputs": [
        {
          "output_type": "stream",
          "name": "stdout",
          "text": [
            " \u001b[0m\u001b[01;34madvancedDL\u001b[0m/   \u001b[01;34mChemProtRE\u001b[0m/  \u001b[01;34m'Colab Notebooks'\u001b[0m/   \u001b[01;34mpytorch_NLP\u001b[0m/\n"
          ]
        }
      ]
    },
    {
      "cell_type": "code",
      "source": [
        "pwd"
      ],
      "metadata": {
        "colab": {
          "base_uri": "https://localhost:8080/",
          "height": 35
        },
        "id": "MjOAd2b5lhcK",
        "outputId": "9ff92777-da29-4ac5-d35d-05bff52b8234"
      },
      "execution_count": null,
      "outputs": [
        {
          "output_type": "execute_result",
          "data": {
            "application/vnd.google.colaboratory.intrinsic+json": {
              "type": "string"
            },
            "text/plain": [
              "'/content/gdrive'"
            ]
          },
          "metadata": {},
          "execution_count": 7
        }
      ]
    },
    {
      "cell_type": "code",
      "source": [
        ""
      ],
      "metadata": {
        "id": "qXG_DN1nmCuN"
      },
      "execution_count": null,
      "outputs": []
    },
    {
      "cell_type": "markdown",
      "source": [
        "# Create a tensor"
      ],
      "metadata": {
        "id": "xhlu8jDomZEU"
      }
    },
    {
      "cell_type": "code",
      "source": [
        "import torch"
      ],
      "metadata": {
        "id": "tQp_cm0Qmr0M"
      },
      "execution_count": null,
      "outputs": []
    },
    {
      "cell_type": "code",
      "source": [
        "# help function \n",
        "def describe(x):\n",
        "  print('Type:{}'.format(x.type()))\n",
        "  print('Shape/Size: {}'.format(x.shape))\n",
        "  print('Value: \\n{}'.format(x))"
      ],
      "metadata": {
        "id": "dbwP83TYmu7W"
      },
      "execution_count": null,
      "outputs": []
    },
    {
      "cell_type": "code",
      "source": [
        "describe(torch.Tensor(2,3))"
      ],
      "metadata": {
        "colab": {
          "base_uri": "https://localhost:8080/"
        },
        "id": "W23dk9T1nRiu",
        "outputId": "848bb173-1af0-4767-cf4f-72b69f02e4f1"
      },
      "execution_count": null,
      "outputs": [
        {
          "output_type": "stream",
          "name": "stdout",
          "text": [
            "Type:torch.FloatTensor\n",
            "Shape/Size: torch.Size([2, 3])\n",
            "Value: \n",
            "tensor([[-4.6750e+00,  3.0796e-41,  3.7835e-44],\n",
            "        [ 0.0000e+00,         nan,  6.4460e-44]])\n"
          ]
        }
      ]
    },
    {
      "cell_type": "code",
      "source": [
        "describe(torch.rand(2,3))\n",
        "describe(torch.randn(2,3))"
      ],
      "metadata": {
        "colab": {
          "base_uri": "https://localhost:8080/"
        },
        "id": "ozA1FmNAnWx0",
        "outputId": "196caf89-21e8-4abb-ac35-6eed951d67f5"
      },
      "execution_count": null,
      "outputs": [
        {
          "output_type": "stream",
          "name": "stdout",
          "text": [
            "Type:torch.FloatTensor\n",
            "Shape/Size: torch.Size([2, 3])\n",
            "Value: \n",
            "tensor([[ 0.2907, -0.7387, -1.2894],\n",
            "        [-0.5255,  0.8750,  1.5888]])\n"
          ]
        }
      ]
    },
    {
      "cell_type": "code",
      "source": [
        "describe(torch.zeros(2,3))\n",
        "describe(torch.ones(2,3))"
      ],
      "metadata": {
        "colab": {
          "base_uri": "https://localhost:8080/"
        },
        "id": "XZiJNrU_oI4x",
        "outputId": "c917d416-b1de-4d56-a51a-1a79a3254e55"
      },
      "execution_count": null,
      "outputs": [
        {
          "output_type": "stream",
          "name": "stdout",
          "text": [
            "Type:torch.FloatTensor\n",
            "Shape/Size: torch.Size([2, 3])\n",
            "Value: \n",
            "tensor([[0., 0., 0.],\n",
            "        [0., 0., 0.]])\n",
            "Type:torch.FloatTensor\n",
            "Shape/Size: torch.Size([2, 3])\n",
            "Value: \n",
            "tensor([[1., 1., 1.],\n",
            "        [1., 1., 1.]])\n"
          ]
        }
      ]
    },
    {
      "cell_type": "code",
      "source": [
        "x = torch.arange(6, dtype=float)"
      ],
      "metadata": {
        "id": "hzCU5vIfpZHV"
      },
      "execution_count": null,
      "outputs": []
    },
    {
      "cell_type": "code",
      "source": [
        "describe(x)"
      ],
      "metadata": {
        "colab": {
          "base_uri": "https://localhost:8080/"
        },
        "id": "0JTZcuKQpdQ8",
        "outputId": "12322e2d-1170-47b4-bb87-db399b8e6c38"
      },
      "execution_count": null,
      "outputs": [
        {
          "output_type": "stream",
          "name": "stdout",
          "text": [
            "Type:torch.DoubleTensor\n",
            "Shape/Size: torch.Size([6])\n",
            "Value: \n",
            "tensor([0., 1., 2., 3., 4., 5.], dtype=torch.float64)\n"
          ]
        }
      ]
    },
    {
      "cell_type": "code",
      "source": [
        "x = torch.FloatTensor(x)"
      ],
      "metadata": {
        "id": "OGe_ETxypiVA"
      },
      "execution_count": null,
      "outputs": []
    },
    {
      "cell_type": "code",
      "source": [
        "describe(x)"
      ],
      "metadata": {
        "colab": {
          "base_uri": "https://localhost:8080/"
        },
        "id": "M4ZQ3zp7p0_4",
        "outputId": "6c5a075d-cc51-4b11-846d-cd5a5577f9b9"
      },
      "execution_count": null,
      "outputs": [
        {
          "output_type": "stream",
          "name": "stdout",
          "text": [
            "Type:torch.FloatTensor\n",
            "Shape/Size: torch.Size([6])\n",
            "Value: \n",
            "tensor([0., 1., 2., 3., 4., 5.])\n"
          ]
        }
      ]
    },
    {
      "cell_type": "code",
      "source": [
        "x = x.reshape(2,3)\n",
        "describe(x)"
      ],
      "metadata": {
        "colab": {
          "base_uri": "https://localhost:8080/"
        },
        "id": "ZNZ_Js16p2uT",
        "outputId": "cba73f9d-82f2-48f6-f9fe-0a37306b49b1"
      },
      "execution_count": null,
      "outputs": [
        {
          "output_type": "stream",
          "name": "stdout",
          "text": [
            "Type:torch.FloatTensor\n",
            "Shape/Size: torch.Size([2, 3])\n",
            "Value: \n",
            "tensor([[0., 1., 2.],\n",
            "        [3., 4., 5.]])\n"
          ]
        }
      ]
    },
    {
      "cell_type": "code",
      "source": [
        "describe(x.sum())\n",
        "describe(x.sum(dim=0)) # sum along row\n",
        "describe(x.sum(dim=1)) # sum along column"
      ],
      "metadata": {
        "colab": {
          "base_uri": "https://localhost:8080/"
        },
        "id": "N2_zZ0rTqqBp",
        "outputId": "edba2d9d-3cd4-40e0-d229-b5f61eac9891"
      },
      "execution_count": null,
      "outputs": [
        {
          "output_type": "stream",
          "name": "stdout",
          "text": [
            "Type:torch.FloatTensor\n",
            "Shape/Size: torch.Size([])\n",
            "Value: \n",
            "15.0\n",
            "Type:torch.FloatTensor\n",
            "Shape/Size: torch.Size([3])\n",
            "Value: \n",
            "tensor([3., 5., 7.])\n",
            "Type:torch.FloatTensor\n",
            "Shape/Size: torch.Size([2])\n",
            "Value: \n",
            "tensor([ 3., 12.])\n"
          ]
        }
      ]
    },
    {
      "cell_type": "code",
      "source": [
        "describe(x.transpose(1,0))\n",
        "describe(x.transpose(0,1))"
      ],
      "metadata": {
        "colab": {
          "base_uri": "https://localhost:8080/"
        },
        "id": "btadwUxfq27k",
        "outputId": "b93522ca-59d7-4e1f-dfb1-6ce6aa246dcb"
      },
      "execution_count": null,
      "outputs": [
        {
          "output_type": "stream",
          "name": "stdout",
          "text": [
            "Type:torch.FloatTensor\n",
            "Shape/Size: torch.Size([3, 2])\n",
            "Value: \n",
            "tensor([[0., 3.],\n",
            "        [1., 4.],\n",
            "        [2., 5.]])\n",
            "Type:torch.FloatTensor\n",
            "Shape/Size: torch.Size([3, 2])\n",
            "Value: \n",
            "tensor([[0., 3.],\n",
            "        [1., 4.],\n",
            "        [2., 5.]])\n"
          ]
        }
      ]
    },
    {
      "cell_type": "code",
      "source": [
        "row_indices = torch.arange(2).long()\n",
        "col_indices = torch.LongTensor([0, 1])\n",
        "# describe(x[row_indices, col_indices])"
      ],
      "metadata": {
        "id": "qx_g1YphrLvs"
      },
      "execution_count": null,
      "outputs": []
    },
    {
      "cell_type": "code",
      "source": [
        "row_indices"
      ],
      "metadata": {
        "colab": {
          "base_uri": "https://localhost:8080/"
        },
        "id": "sT55czTpsV0a",
        "outputId": "36668fd9-e146-417a-8ed6-86b43346903d"
      },
      "execution_count": null,
      "outputs": [
        {
          "output_type": "execute_result",
          "data": {
            "text/plain": [
              "tensor([0, 1])"
            ]
          },
          "metadata": {},
          "execution_count": 49
        }
      ]
    },
    {
      "cell_type": "code",
      "source": [
        "col_indices"
      ],
      "metadata": {
        "colab": {
          "base_uri": "https://localhost:8080/"
        },
        "id": "vFvLtZGYsaLx",
        "outputId": "196d5bc5-4455-4d55-845c-f5d9bebe4843"
      },
      "execution_count": null,
      "outputs": [
        {
          "output_type": "execute_result",
          "data": {
            "text/plain": [
              "tensor([0, 1])"
            ]
          },
          "metadata": {},
          "execution_count": 50
        }
      ]
    },
    {
      "cell_type": "code",
      "source": [
        "x[row_indices, col_indices]"
      ],
      "metadata": {
        "colab": {
          "base_uri": "https://localhost:8080/"
        },
        "id": "2QrY3EizsfBS",
        "outputId": "3a35bb2c-1950-4bfc-b97a-68f89e15e60a"
      },
      "execution_count": null,
      "outputs": [
        {
          "output_type": "execute_result",
          "data": {
            "text/plain": [
              "tensor([0., 4.])"
            ]
          },
          "metadata": {},
          "execution_count": 51
        }
      ]
    },
    {
      "cell_type": "markdown",
      "source": [
        "# Tensors and Computational Graphs\n"
      ],
      "metadata": {
        "id": "yjjWAxrcuS7f"
      }
    },
    {
      "cell_type": "code",
      "source": [
        "import torch\n",
        "x = torch.ones(2, 2, requires_grad=True)\n",
        "describe(x)\n",
        "print(x.grad is None)"
      ],
      "metadata": {
        "colab": {
          "base_uri": "https://localhost:8080/"
        },
        "id": "snVcaOawsi9S",
        "outputId": "ffe8ca24-23ef-49d4-bf89-4db63c2a8b4f"
      },
      "execution_count": null,
      "outputs": [
        {
          "output_type": "stream",
          "name": "stdout",
          "text": [
            "Type:torch.FloatTensor\n",
            "Shape/Size: torch.Size([2, 2])\n",
            "Value: \n",
            "tensor([[1., 1.],\n",
            "        [1., 1.]], requires_grad=True)\n",
            "True\n"
          ]
        }
      ]
    },
    {
      "cell_type": "code",
      "source": [
        "y = (x + 2) * (x + 5) + 3\n",
        "describe(y)\n",
        "print(x.grad is None)"
      ],
      "metadata": {
        "colab": {
          "base_uri": "https://localhost:8080/"
        },
        "id": "iMlaWt6oudAb",
        "outputId": "b330fd01-d3ea-452f-c2e2-1877ffce5182"
      },
      "execution_count": null,
      "outputs": [
        {
          "output_type": "stream",
          "name": "stdout",
          "text": [
            "Type:torch.FloatTensor\n",
            "Shape/Size: torch.Size([2, 2])\n",
            "Value: \n",
            "tensor([[21., 21.],\n",
            "        [21., 21.]], grad_fn=<AddBackward0>)\n",
            "True\n"
          ]
        }
      ]
    },
    {
      "cell_type": "code",
      "source": [
        "z = y.mean()\n",
        "describe(z)\n",
        "z.backward()\n",
        "print(x.grad is None)"
      ],
      "metadata": {
        "colab": {
          "base_uri": "https://localhost:8080/"
        },
        "id": "CLY7VcErudxy",
        "outputId": "a61ef141-5e73-4a7c-bd5d-dd3e65efc96d"
      },
      "execution_count": null,
      "outputs": [
        {
          "output_type": "stream",
          "name": "stdout",
          "text": [
            "Type:torch.FloatTensor\n",
            "Shape/Size: torch.Size([])\n",
            "Value: \n",
            "21.0\n",
            "False\n"
          ]
        }
      ]
    },
    {
      "cell_type": "markdown",
      "source": [
        "# Exersice"
      ],
      "metadata": {
        "id": "7bkr_TzMxSSw"
      }
    },
    {
      "cell_type": "markdown",
      "source": [
        "1. Create a 2D tensor and then add a dimension of size 1 inserted at dimension 0"
      ],
      "metadata": {
        "id": "89MpCxPDzC5d"
      }
    },
    {
      "cell_type": "code",
      "source": [
        "x = torch.arange(6).view(2,3)\n",
        "describe(x)"
      ],
      "metadata": {
        "colab": {
          "base_uri": "https://localhost:8080/"
        },
        "id": "aTYU2CjmunSm",
        "outputId": "5982c053-9491-4c54-861b-5aab7b51f844"
      },
      "execution_count": null,
      "outputs": [
        {
          "output_type": "stream",
          "name": "stdout",
          "text": [
            "Type:torch.LongTensor\n",
            "Shape/Size: torch.Size([2, 3])\n",
            "Value: \n",
            "tensor([[0, 1, 2],\n",
            "        [3, 4, 5]])\n"
          ]
        }
      ]
    },
    {
      "cell_type": "code",
      "source": [
        "y = x.unsqueeze(0)\n",
        "describe(y)"
      ],
      "metadata": {
        "colab": {
          "base_uri": "https://localhost:8080/"
        },
        "id": "8e9M8tAvye-O",
        "outputId": "c955b27d-b2ae-432a-de90-458abb7cd10c"
      },
      "execution_count": null,
      "outputs": [
        {
          "output_type": "stream",
          "name": "stdout",
          "text": [
            "Type:torch.LongTensor\n",
            "Shape/Size: torch.Size([1, 2, 3])\n",
            "Value: \n",
            "tensor([[[0, 1, 2],\n",
            "         [3, 4, 5]]])\n"
          ]
        }
      ]
    },
    {
      "cell_type": "markdown",
      "source": [
        "2. Remove the extra dimension you just added to the previous tensor.\n"
      ],
      "metadata": {
        "id": "o6osWnXLzFvR"
      }
    },
    {
      "cell_type": "code",
      "source": [
        "by.squeeze(0)\n"
      ],
      "metadata": {
        "colab": {
          "base_uri": "https://localhost:8080/"
        },
        "id": "CRAw0fetxkmJ",
        "outputId": "25815d25-ce9d-458a-fbf8-3b33838236d1"
      },
      "execution_count": null,
      "outputs": [
        {
          "output_type": "execute_result",
          "data": {
            "text/plain": [
              "tensor([[0, 1, 2],\n",
              "        [3, 4, 5]])"
            ]
          },
          "metadata": {},
          "execution_count": 67
        }
      ]
    },
    {
      "cell_type": "markdown",
      "source": [
        "3. Create a random tensor of shape 5x3 in the interval [3, 7)"
      ],
      "metadata": {
        "id": "sfp88u3tzJaw"
      }
    },
    {
      "cell_type": "code",
      "source": [
        "a = torch.rand(5,3)\n",
        "z= 3+a * 4"
      ],
      "metadata": {
        "id": "8_fJeReDyYs_"
      },
      "execution_count": null,
      "outputs": []
    },
    {
      "cell_type": "code",
      "source": [
        "describe(z)"
      ],
      "metadata": {
        "colab": {
          "base_uri": "https://localhost:8080/"
        },
        "id": "6opyAwyDzXuU",
        "outputId": "6676489a-33a9-4c59-94c2-a89d6c93f454"
      },
      "execution_count": null,
      "outputs": [
        {
          "output_type": "stream",
          "name": "stdout",
          "text": [
            "Type:torch.FloatTensor\n",
            "Shape/Size: torch.Size([5, 3])\n",
            "Value: \n",
            "tensor([[3.7893, 6.5094, 4.6930],\n",
            "        [4.9413, 3.5627, 4.4207],\n",
            "        [3.7460, 4.0911, 4.3947],\n",
            "        [6.1170, 6.0862, 3.0357],\n",
            "        [4.3983, 4.3562, 5.4301]])\n"
          ]
        }
      ]
    },
    {
      "cell_type": "markdown",
      "source": [
        "4. Create a tensor with values from a normal distribution (mean=0, std=1).\n"
      ],
      "metadata": {
        "id": "W9MOmaa70U5B"
      }
    },
    {
      "cell_type": "code",
      "source": [
        "torch.randn(2,3).normal_()\n"
      ],
      "metadata": {
        "colab": {
          "base_uri": "https://localhost:8080/"
        },
        "id": "kfaOwnx_0RRz",
        "outputId": "7d061b17-86f9-4cfe-ddc9-33eef5217459"
      },
      "execution_count": null,
      "outputs": [
        {
          "output_type": "execute_result",
          "data": {
            "text/plain": [
              "tensor([[ 1.7950,  1.2863,  0.5493],\n",
              "        [ 0.8170, -0.2886, -0.4779]])"
            ]
          },
          "metadata": {},
          "execution_count": 75
        }
      ]
    },
    {
      "cell_type": "code",
      "source": [
        ""
      ],
      "metadata": {
        "id": "Gpllv3jK0dOE"
      },
      "execution_count": null,
      "outputs": []
    },
    {
      "cell_type": "markdown",
      "source": [
        "7. Return the batch matrix­matrix product of two three­dimensional matrices\n",
        "(a=torch.rand(3,4,5), b=torch.rand(3,5,4))."
      ],
      "metadata": {
        "id": "IDkU8xd20sBe"
      }
    },
    {
      "cell_type": "code",
      "source": [
        "a=torch.rand(3,4,5)\n",
        "b=torch.rand(3,5,4)\n",
        "c = torch.bmm(a,b)\n",
        "describe(c)"
      ],
      "metadata": {
        "colab": {
          "base_uri": "https://localhost:8080/"
        },
        "id": "6y1FzpEG0tYa",
        "outputId": "00afe192-f8a0-4533-d478-27b23a9d7df3"
      },
      "execution_count": null,
      "outputs": [
        {
          "output_type": "stream",
          "name": "stdout",
          "text": [
            "Type:torch.FloatTensor\n",
            "Shape/Size: torch.Size([3, 4, 4])\n",
            "Value: \n",
            "tensor([[[1.6508, 1.4244, 1.5827, 1.3583],\n",
            "         [1.8252, 1.7732, 1.5573, 1.7200],\n",
            "         [0.8590, 0.7686, 0.7414, 0.7387],\n",
            "         [1.4790, 2.0298, 1.8847, 1.2539]],\n",
            "\n",
            "        [[1.5886, 1.7261, 1.8333, 1.9314],\n",
            "         [0.6183, 0.7943, 0.6490, 0.8982],\n",
            "         [1.0673, 1.0947, 0.9890, 1.0936],\n",
            "         [1.1764, 1.1581, 1.4150, 1.3445]],\n",
            "\n",
            "        [[0.6961, 1.0902, 1.0190, 1.3187],\n",
            "         [1.3890, 1.4531, 1.6678, 2.4307],\n",
            "         [0.6182, 0.7526, 0.9062, 1.1468],\n",
            "         [1.5894, 1.5457, 1.8391, 2.2845]]])\n"
          ]
        }
      ]
    },
    {
      "cell_type": "markdown",
      "source": [
        "8. Return the batch matrix­matrix product of a 3D matrix and a 2D matrix\n",
        "(a=torch.rand(3,4,5), b=torch.rand(5,4))"
      ],
      "metadata": {
        "id": "nkDdQM1o1CQV"
      }
    },
    {
      "cell_type": "code",
      "source": [
        "a=torch.rand(3,4,5)\n",
        "b=torch.rand(5,4)"
      ],
      "metadata": {
        "id": "62lDOr1V0zL-"
      },
      "execution_count": null,
      "outputs": []
    },
    {
      "cell_type": "code",
      "source": [
        "c = b.unsqueeze(0).expand(a.size(0), *b.size())\n",
        "describe(c)"
      ],
      "metadata": {
        "colab": {
          "base_uri": "https://localhost:8080/"
        },
        "id": "DmnNCJQi27aH",
        "outputId": "ae995155-c869-4c35-9c30-bbb5fa19034d"
      },
      "execution_count": null,
      "outputs": [
        {
          "output_type": "stream",
          "name": "stdout",
          "text": [
            "Type:torch.FloatTensor\n",
            "Shape/Size: torch.Size([3, 5, 4])\n",
            "Value: \n",
            "tensor([[[0.4126, 0.2141, 0.4238, 0.4201],\n",
            "         [0.0639, 0.8805, 0.9921, 0.8206],\n",
            "         [0.2501, 0.0731, 0.4156, 0.7290],\n",
            "         [0.8083, 0.4003, 0.9045, 0.7931],\n",
            "         [0.4785, 0.0986, 0.0250, 0.9856]],\n",
            "\n",
            "        [[0.4126, 0.2141, 0.4238, 0.4201],\n",
            "         [0.0639, 0.8805, 0.9921, 0.8206],\n",
            "         [0.2501, 0.0731, 0.4156, 0.7290],\n",
            "         [0.8083, 0.4003, 0.9045, 0.7931],\n",
            "         [0.4785, 0.0986, 0.0250, 0.9856]],\n",
            "\n",
            "        [[0.4126, 0.2141, 0.4238, 0.4201],\n",
            "         [0.0639, 0.8805, 0.9921, 0.8206],\n",
            "         [0.2501, 0.0731, 0.4156, 0.7290],\n",
            "         [0.8083, 0.4003, 0.9045, 0.7931],\n",
            "         [0.4785, 0.0986, 0.0250, 0.9856]]])\n"
          ]
        }
      ]
    },
    {
      "cell_type": "code",
      "source": [
        "d = torch.bmm(a,c)\n",
        "describe(d)"
      ],
      "metadata": {
        "colab": {
          "base_uri": "https://localhost:8080/"
        },
        "id": "nN3-1UgN5ML8",
        "outputId": "3128b907-a53d-4d92-e63a-765e50a3fb63"
      },
      "execution_count": null,
      "outputs": [
        {
          "output_type": "stream",
          "name": "stdout",
          "text": [
            "Type:torch.FloatTensor\n",
            "Shape/Size: torch.Size([3, 4, 4])\n",
            "Value: \n",
            "tensor([[[1.4767, 0.6940, 1.4417, 2.2454],\n",
            "         [1.0562, 1.0687, 1.8439, 2.1757],\n",
            "         [1.3042, 1.0558, 1.6839, 1.9635],\n",
            "         [1.4037, 0.7214, 1.4157, 2.2118]],\n",
            "\n",
            "        [[1.5852, 1.0953, 1.9907, 2.5865],\n",
            "         [0.9370, 0.4537, 0.8081, 1.6062],\n",
            "         [0.9306, 0.8863, 1.3850, 2.2533],\n",
            "         [0.7050, 1.0690, 1.4437, 1.7243]],\n",
            "\n",
            "        [[0.9855, 0.7516, 1.3585, 1.7242],\n",
            "         [0.8977, 0.4442, 1.0317, 1.6004],\n",
            "         [0.6362, 0.9309, 1.2765, 1.3932],\n",
            "         [1.2394, 0.8377, 1.4308, 1.8949]]])\n"
          ]
        }
      ]
    },
    {
      "cell_type": "code",
      "source": [
        ""
      ],
      "metadata": {
        "id": "HP_P_ji-5Q9V"
      },
      "execution_count": null,
      "outputs": []
    }
  ]
}